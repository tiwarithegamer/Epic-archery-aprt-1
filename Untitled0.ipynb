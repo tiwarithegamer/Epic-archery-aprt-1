{
  "nbformat": 4,
  "nbformat_minor": 0,
  "metadata": {
    "colab": {
      "provenance": [],
      "authorship_tag": "ABX9TyMPfFYf77QG2ZtyZNVr34Zm",
      "include_colab_link": true
    },
    "kernelspec": {
      "name": "python3",
      "display_name": "Python 3"
    },
    "language_info": {
      "name": "python"
    }
  },
  "cells": [
    {
      "cell_type": "markdown",
      "metadata": {
        "id": "view-in-github",
        "colab_type": "text"
      },
      "source": [
        "<a href=\"https://colab.research.google.com/github/tiwarithegamer/Epic-archery-aprt-1/blob/main/Untitled0.ipynb\" target=\"_parent\"><img src=\"https://colab.research.google.com/assets/colab-badge.svg\" alt=\"Open In Colab\"/></a>"
      ]
    },
    {
      "cell_type": "code",
      "execution_count": 5,
      "metadata": {
        "colab": {
          "base_uri": "https://localhost:8080/"
        },
        "id": "h2zCyUp3DNwE",
        "outputId": "85d89af1-1d6f-4afb-d015-c1e46c6aaafc"
      },
      "outputs": [
        {
          "output_type": "stream",
          "name": "stdout",
          "text": [
            "enter first number2\n",
            "enter second number3\n",
            "subtraction of number is   -1.0\n"
          ]
        }
      ],
      "source": [
        "def calculate(option) :\n",
        "  if (option == 1 or option == 2) :\n",
        "      num1 = input('enter first number')\n",
        "      num2 = input('enter second number')\n",
        "      if (option == 1 ) :\n",
        "        sum = float(num1) + float(num2)\n",
        "        print('sum of the numbers is  ', sum)\n",
        "      else : \n",
        "        subtraction = float(num1) - float(num2)\n",
        "        print('subtraction of number is  ', subtraction)\n",
        "  else : \n",
        "    print(\"invalid input\")\n",
        "\n",
        "calculate(2)"
      ]
    }
  ]
}